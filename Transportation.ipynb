{
  "cells": [
    {
      "cell_type": "code",
      "execution_count": null,
      "metadata": {
        "id": "0brKYevlJaX6",
        "outputId": "45c665d7-041d-4b20-bfb6-82b182b78c01"
      },
      "outputs": [
        {
          "name": "stdout",
          "output_type": "stream",
          "text": [
            "Process Time:  70.14849042892456 sec\n"
          ]
        }
      ],
      "source": [
        "import pandas as pd\n",
        "import numpy as np\n",
        "from math import *\n",
        "import time\n",
        "\n",
        "clock1 = time.time()\n",
        "def calculator1(row):\n",
        "    \"\"\"\"A function to indicate unacceptable difference between time of acciddent and weather_timestamp\"\"\"\n",
        "    #suppose that maximum difference between times is 24 hours\n",
        "    date_time1, date_time2 = row[\"Start_Time\"], row[\"Weather_Timestamp\"]\n",
        "    if len(date_time1) == 19: # for format : '2016-06-21 12:03:52' (xlsx files)\n",
        "        time1 = date_time1[11:].split(\":\")\n",
        "        date1 = int(\"\".join(date_time1[:10].split(\"-\")))\n",
        "    else:#for format: \"6/21/2016  10:47:00 AM\" (CVS files)\n",
        "        time1 = (date_time1.split()[1]).split(\":\")\n",
        "        if (date_time1.split()[2]) == \"PM\":\n",
        "            time1[0] = str(int(time1[0]) + 12)\n",
        "        date1 = (date_time1.split()[0]).split(\"/\")\n",
        "        for i in [0, 1]:\n",
        "            if len(date1[i]) == 1:\n",
        "                date1[i] = \"0\" + date1[i]\n",
        "        date1[0], date1[1], date1[2] = date1[2], date1[0], date1[1]\n",
        "        date1 = int(\"\".join(date1))\n",
        "    if len(date_time2) == 19: # for format : '2016-06-21 12:03:52' (xlsx files)\n",
        "        time2 = date_time2[11:].split(\":\")\n",
        "        date2 = int(\"\".join(date_time2[:10].split(\"-\")))\n",
        "    else:#for format: \"6/21/2016  10:47:00 AM\" (CVS files)\n",
        "        time2 = (date_time2.split()[1]).split(\":\")\n",
        "        if (date_time2.split()[2]) == \"PM\":\n",
        "            time2[0] = str(int(time2[0]) + 12)\n",
        "        date2 = (date_time2.split()[0]).split(\"/\")\n",
        "        for i in [0, 1]:\n",
        "            if len(date2[i]) == 1:\n",
        "                date2[i] = \"0\" + date2[i]\n",
        "        date2[0], date2[1], date2[2] = date2[2], date2[0], date2[1]\n",
        "        date2 = int(\"\".join(date2))\n",
        "    if date1 > date2:\n",
        "        time1, time2 = time2, time1\n",
        "    elif int(\"\".join(time1)) > int(\"\".join(time2)):\n",
        "        time1, time2 = time2, time1\n",
        "    for i in range(3):\n",
        "        time1[i] = int(time1[i])\n",
        "        time2[i] = int(time2[i])\n",
        "    difference = list()\n",
        "    if time2[0] < time1[0]:\n",
        "        time2[0] += 24\n",
        "    for i in range(3):\n",
        "        difference.append(time2[i] - time1[i])\n",
        "    for j in [2, 1]:\n",
        "        if difference[j] < 0:\n",
        "            difference[j] += 60\n",
        "            difference[j - 1] -= 1\n",
        "    difference = difference[0] + (difference[1] / 60) + (difference[2] / 3600)\n",
        "    if difference < 0.5:\n",
        "        return True\n",
        "    else:\n",
        "        return False\n",
        "\n",
        "def remove_null(table):\n",
        "    \"\"\"A function to remove rows that contain null cells\"\"\"\n",
        "    headers = list(table)\n",
        "    for i in headers:\n",
        "        table = table[table[i].notnull()]\n",
        "    return table\n",
        "\n",
        "def zone(table):\n",
        "    \"\"\"A function to indicate 5km*5km zones| the numbers are valid for Los Angles city and Los Angeles County\n",
        "    Each zone is shown by a list: [downcorner_lng, downcorner_lat, upcorner_lng , upcorner_lat]\"\"\"\n",
        "    max_lat = table[\"Start_Lat\"].max()\n",
        "    max_lng = table[\"Start_Lng\"].max()\n",
        "    min_lat = table[\"Start_Lat\"].min()\n",
        "    min_lng = table[\"Start_Lng\"].min()\n",
        "    #In Los Angles: 1 degree of longtitude = 82.6636 km  and 1 degree of latitude = 110.9269333 km\n",
        "    zone_length = 5 * (1 / 82.663600)\n",
        "    zone_width = 5 * (1 / 110.926333)\n",
        "    downcorner_lat = min_lat\n",
        "    downcorner_lng = min_lng\n",
        "    zones = []\n",
        "    for i in range(int((max_lat - min_lat) / zone_width) + 1):\n",
        "        for j in range(int((max_lng - min_lng ) / zone_length) + 1):\n",
        "            zones.append([downcorner_lng, downcorner_lat, downcorner_lng + zone_length , downcorner_lat + zone_width])\n",
        "            downcorner_lng += zone_length\n",
        "        downcorner_lat += zone_width\n",
        "        downcorner_lng = min_lng\n",
        "    return zones\n",
        "\n",
        "def time_discretize(row):\n",
        "    \"\"\"A function to convert time to dummy variables\n",
        "    First time period is between 00:00:00 and 07:00:00\n",
        "    2nd time period is between 07:00:00 and 09:00:00\n",
        "    3rd time period is between 09:00:00 and 12:00:00\n",
        "    4th time period is between 12:00:00 and 14:00:00\n",
        "    5th time period is between 14:00:00 and 17:00:00\n",
        "    6th time period is between 17:00:00 and 20:00:00\n",
        "    7th time period is between 20:00:00 and 00:00:00\"\"\"\n",
        "    time = (row[\"Start_Time\"].split()[1]).split(\":\")\n",
        "    time = int(\"\".join(time))\n",
        "    if ((0 <= time) and (time < 70000)):\n",
        "        return 1\n",
        "    elif ((70000 <= time) and (time < 90000)):\n",
        "        return 2\n",
        "    elif ((90000 <= time) and (time < 120000)):\n",
        "        return 3\n",
        "    elif ((120000 <= time) and (time < 140000)):\n",
        "        return 4\n",
        "    elif ((140000 <= time) and (time < 170000)):\n",
        "        return 5\n",
        "    elif ((170000 <= time) and (time < 200000)):\n",
        "        return 6\n",
        "    elif ((200000 <= time) and (time <= 235959)):\n",
        "        return 7\n",
        "\n",
        "\n",
        "#read data\n",
        "data = pd.read_csv(\"US_Accidents_June20.csv\")\n",
        "data = data.drop([\"ID\", \"TMC\", \"End_Lat\", \"End_Lng\", \"Number\", \"Street\", \"Zipcode\", \"Country\", \\\n",
        "                  \"Timezone\", \"Airport_Code\", \"Wind_Chill(F)\", \"Precipitation(in)\", \"Sunrise_Sunset\", \\\n",
        "                  \"Civil_Twilight\", \"Nautical_Twilight\", \"Astronomical_Twilight\", \"Wind_Direction\"], axis = 1)\n",
        "county_data = data[data[\"City\"] == \"Los Angeles\"]\n",
        "county_data.to_csv(\"SystemicFile_.csv\", sep=\",\", index=False)\n",
        "data = pd.read_csv(\"SystemicFile_.csv\")\n",
        "zone(data)\n",
        "\n",
        "#1st step of data cleaning(cleaning rows with null cell)\n",
        "data = remove_null(data)\n",
        "data.to_csv(\"SystemicFile_.csv\", sep=\",\", index=False)\n",
        "data = pd.read_csv(\"SystemicFile_.csv\")\n",
        "\n",
        "#2nd step of data cleaninig(remove rows with big difference between start time and weather time stamp)\n",
        "Boolean_table = data.apply(calculator1, axis = 1)\n",
        "data = data[Boolean_table]\n",
        "data.to_csv(\"SystemicFile_.csv\", sep=\",\", index=False)\n",
        "data = pd.read_csv(\"SystemicFile_.csv\")\n",
        "\n",
        "#3rd step | Deleting rare Weathers\n",
        "weds = list(data[\"Weather_Condition\"].value_counts(sort = 0).index)\n",
        "counter = list(data[\"Weather_Condition\"].value_counts(sort = 0))\n",
        "del_wed_index = list()\n",
        "for (i, j) in enumerate(counter):\n",
        "    if j <= 100:      ###From Here Change the minimum acceptable Repeat for a wheather\n",
        "        del_wed_index.append(i)\n",
        "del_wed_index.sort(reverse = True)\n",
        "for k in del_wed_index:\n",
        "    del_wed = weds[k]\n",
        "    data = data[(data['Weather_Condition'] != del_wed)]\n",
        "\n",
        "#4th step| change Boolean parameters with (0,1) and discretizing continuous variables\n",
        "#and change attribute variables with Booleans Discretizing time\n",
        "for i in list(data):\n",
        "    data[i] = data[i].replace([True], 1)\n",
        "    data[i] = data[i].replace([False], 0)\n",
        "time_table = data.apply(time_discretize, axis = 1)\n",
        "data[\"Start_Time\"] = list(time_table)\n",
        "data.rename(columns = {\"Start_Time\": \"Time_Zone\"}, inplace=True)\n",
        "\n",
        "#Discretizing Weather_condition\n",
        "weathers = data['Weather_Condition'].unique()\n",
        "for (i, w) in enumerate(weathers):\n",
        "    data['Weather_Condition'] = data['Weather_Condition'].replace([w], i + 1)\n",
        "\n",
        "#5th step | Deleting rare POIs\n",
        "for i in list(data):\n",
        "    if (data[i].max() == 0):\n",
        "        data.drop([i], axis = 1, inplace = True)\n",
        "    elif (data[i].max() == 1) and (data[i].min() == 0):\n",
        "        if (data[i].sum() <= 100): ###From Here Change number of Repeat\n",
        "            data = data[(data[i] == 0)]\n",
        "            data.drop([i], axis = 1, inplace = True)\n",
        "\n",
        "#6th step of data cleaning (Delete zones with few accidents and its rows)\n",
        "data.to_csv(\"SystemicFile_.csv\", sep=\",\", index=False)\n",
        "data = pd.read_csv(\"SystemicFile_.csv\")\n",
        "zones = zone(data)\n",
        "zone_accident = [0] * len(zones)\n",
        "indicate_zone = list()\n",
        "for k in range(data.shape[0]):\n",
        "    lng, lat = data[\"Start_Lng\"][k], data[\"Start_Lat\"][k]\n",
        "    for i in zones:\n",
        "        if (lng >= i[0]) and (lng < i[2]) and (lat >= i[1]) and (lat < i[3]) :\n",
        "            zone_accident[zones.index(i)] += 1\n",
        "            indicate_zone.append(zones.index(i) + 1)\n",
        "data[\"Zone\"] = indicate_zone\n",
        "deleted_zone_index = []\n",
        "for (i, j) in enumerate(zone_accident):\n",
        "    if j <= 50:#From Here change minimum of accidens in a zone\n",
        "        deleted_zone_index.append(i + 1)\n",
        "deleted_zone_index.reverse()\n",
        "for k in deleted_zone_index:\n",
        "    del zone_accident[k - 1]\n",
        "    del zones[k - 1]\n",
        "\n",
        "for l in deleted_zone_index:\n",
        "    data = data[data[\"Zone\"] != l]\n",
        "valid_zone = list(data[\"Zone\"].unique())\n",
        "valid_zone.sort()\n",
        "for (i, j) in enumerate(valid_zone):\n",
        "    data['Zone'] = data['Zone'].replace([j], i + 1)\n",
        "\n",
        "#Severity\n",
        "data['Severity'] = data['Severity'].replace([1, 2], 0)\n",
        "data['Severity'] = data['Severity'].replace([3, 4], 1)\n",
        "\n",
        "\n",
        "#Final Preparing DataBase\n",
        "data = data.drop([\"Source\", \"Description\", \"City\", \"County\", \"State\", \"End_Time\", \\\n",
        "                  \"Start_Lat\", \"Start_Lng\", \"Weather_Timestamp\", \"Side\", \"Distance(mi)\"] ,axis = 1)\n",
        "data.to_csv(\"Processed-Data.csv\", sep=\",\", index=False)\n",
        "clock2 = time.time()\n",
        "print(\"Process Time: \", clock2 - clock1, \"sec\")\n"
      ]
    },
    {
      "cell_type": "code",
      "execution_count": null,
      "metadata": {
        "id": "LwegavHWJaX8"
      },
      "outputs": [],
      "source": []
    },
    {
      "cell_type": "code",
      "execution_count": null,
      "metadata": {
        "id": "3czidZYSJaX9",
        "outputId": "84431c54-bc6f-45b0-c5c5-fcd689ea9a58"
      },
      "outputs": [
        {
          "name": "stdout",
          "output_type": "stream",
          "text": [
            "Process Time:  54.313902139663696 sec\n"
          ]
        }
      ],
      "source": [
        "import pandas as pd\n",
        "import numpy as np\n",
        "from math import *\n",
        "import time\n",
        "\n",
        "clock1 = time.time()\n",
        "def calculator1(row):\n",
        "    \"\"\"\"A function for indicating unacceptable difference between time of acciddent and weather_timestamp\"\"\"\n",
        "    #suppose that maximum difference between times is 24 hours\n",
        "    date_time1, date_time2 = row[\"Start_Time\"], row[\"Weather_Timestamp\"]\n",
        "    if len(date_time1) == 19: # for format : '2016-06-21 12:03:52' (xlsx files)\n",
        "        time1 = date_time1[11:].split(\":\")\n",
        "        date1 = int(\"\".join(date_time1[:10].split(\"-\")))\n",
        "    else:#for format: \"6/21/2016  10:47:00 AM\" (CVS files)\n",
        "        time1 = (date_time1.split()[1]).split(\":\")\n",
        "        if (date_time1.split()[2]) == \"PM\":\n",
        "            time1[0] = str(int(time1[0]) + 12)\n",
        "        date1 = (date_time1.split()[0]).split(\"/\")\n",
        "        for i in [0, 1]:\n",
        "            if len(date1[i]) == 1:\n",
        "                date1[i] = \"0\" + date1[i]\n",
        "        date1[0], date1[1], date1[2] = date1[2], date1[0], date1[1]\n",
        "        date1 = int(\"\".join(date1))\n",
        "    if len(date_time2) == 19: # for format : '2016-06-21 12:03:52' (xlsx files)\n",
        "        time2 = date_time2[11:].split(\":\")\n",
        "        date2 = int(\"\".join(date_time2[:10].split(\"-\")))\n",
        "    else:#for format: \"6/21/2016  10:47:00 AM\" (CVS files)\n",
        "        time2 = (date_time2.split()[1]).split(\":\")\n",
        "        if (date_time2.split()[2]) == \"PM\":\n",
        "            time2[0] = str(int(time2[0]) + 12)\n",
        "        date2 = (date_time2.split()[0]).split(\"/\")\n",
        "        for i in [0, 1]:\n",
        "            if len(date2[i]) == 1:\n",
        "                date2[i] = \"0\" + date2[i]\n",
        "        date2[0], date2[1], date2[2] = date2[2], date2[0], date2[1]\n",
        "        date2 = int(\"\".join(date2))\n",
        "    if date1 > date2:\n",
        "        time1, time2 = time2, time1\n",
        "    elif int(\"\".join(time1)) > int(\"\".join(time2)):\n",
        "        time1, time2 = time2, time1\n",
        "    for i in range(3):\n",
        "        time1[i] = int(time1[i])\n",
        "        time2[i] = int(time2[i])\n",
        "    difference = list()\n",
        "    if time2[0] < time1[0]:\n",
        "        time2[0] += 24\n",
        "    for i in range(3):\n",
        "        difference.append(time2[i] - time1[i])\n",
        "    for j in [2, 1]:\n",
        "        if difference[j] < 0:\n",
        "            difference[j] += 60\n",
        "            difference[j - 1] -= 1\n",
        "    difference = difference[0] + (difference[1] / 60) + (difference[2] / 3600)\n",
        "    if difference < 0.5: #From Here You Can Change Time filter\"\"\"\n",
        "        return True\n",
        "    else:\n",
        "        return False\n",
        "\n",
        "def remove_null(table):\n",
        "    \"\"\"A function to remove rows that contain null cells\"\"\"\n",
        "    headers = list(table)\n",
        "    for i in headers:\n",
        "        table = table[table[i].notnull()]\n",
        "    return table\n",
        "\n",
        "def zone(table):\n",
        "    \"\"\"A function for indicating 5km*5km zones| the numbers are valid for Los Angles city and Los Angeles County\n",
        "    Each zone is shown by a list: [downcorner_lng, downcorner_lat, upcorner_lng , upcorner_lat]\"\"\"\n",
        "    max_lat = table[\"Start_Lat\"].max()\n",
        "    max_lng = table[\"Start_Lng\"].max()\n",
        "    min_lat = table[\"Start_Lat\"].min()\n",
        "    min_lng = table[\"Start_Lng\"].min()\n",
        "    #In Los Angles: 1 degree of longtitude = 82.6636 km  and 1 degree of latitude = 110.9269333 km\n",
        "    zone_length = 5 * (1 / 82.663600)\n",
        "    zone_width = 5 * (1 / 110.926333)\n",
        "    downcorner_lat = min_lat\n",
        "    downcorner_lng = min_lng\n",
        "    zones = []\n",
        "    for i in range(int((max_lat - min_lat) / zone_width) + 1):\n",
        "        for j in range(int((max_lng - min_lng ) / zone_length) + 1):\n",
        "            zones.append([downcorner_lng, downcorner_lat, downcorner_lng + zone_length , downcorner_lat + zone_width])\n",
        "            downcorner_lng += zone_length\n",
        "        downcorner_lat += zone_width\n",
        "        downcorner_lng = min_lng\n",
        "    return zones\n",
        "\n",
        "def time_discretize(row):\n",
        "    \"\"\"A function for converting time to dummy variable\n",
        "    First time priod is between 00:00:00 and 07:00:00\n",
        "    2nd time priod is between 07:00:00 and 09:00:00\n",
        "    3rd time priod is between 09:00:00 and 12:00:00\n",
        "    4th time priod is between 12:00:00 and 14:00:00\n",
        "    5th time priod is between 14:00:00 and 17:00:00\n",
        "    6th time priod is between 17:00:00 and 20:00:00\n",
        "    7th time priod is between 20:00:00 and 00:00:00\"\"\"\n",
        "    time = (row[\"Start_Time\"].split()[1]).split(\":\")\n",
        "    time = int(\"\".join(time))\n",
        "    if ((0 <= time) and (time < 70000)):\n",
        "        return 1\n",
        "    elif ((70000 <= time) and (time < 90000)):\n",
        "        return 2\n",
        "    elif ((90000 <= time) and (time < 120000)):\n",
        "        return 3\n",
        "    elif ((120000 <= time) and (time < 140000)):\n",
        "        return 4\n",
        "    elif ((140000 <= time) and (time < 170000)):\n",
        "        return 5\n",
        "    elif ((170000 <= time) and (time < 200000)):\n",
        "        return 6\n",
        "    elif ((200000 <= time) and (time <= 235959)):\n",
        "        return 7\n",
        "\n",
        "\n",
        "#read data\n",
        "data = pd.read_csv(\"US_Accidents_June20.csv\")\n",
        "data = data.drop([\"ID\", \"TMC\", \"End_Lat\", \"End_Lng\", \"Number\", \"Street\", \"Zipcode\", \"Country\", \\\n",
        "                  \"Timezone\", \"Airport_Code\", \"Wind_Chill(F)\", \"Precipitation(in)\", \"Sunrise_Sunset\", \\\n",
        "                  \"Civil_Twilight\", \"Nautical_Twilight\", \"Astronomical_Twilight\", \"Wind_Direction\"], axis = 1)\n",
        "county_data = data[data[\"City\"] == \"Los Angeles\"]\n",
        "county_data.to_csv(\"SystemicFile_.csv\", sep=\",\", index=False)\n",
        "data = pd.read_csv(\"SystemicFile_.csv\")\n",
        "zone(data)\n",
        "\n",
        "#1st step of data cleaning(cleaning rows with null cell)\n",
        "data = remove_null(data)\n",
        "data.to_csv(\"SystemicFile_.csv\", sep=\",\", index=False)\n",
        "data = pd.read_csv(\"SystemicFile_.csv\")\n",
        "\n",
        "#2nd step of data cleaninig(remove rows with big difference between start time and weather time stamp)\n",
        "bolean_table = data.apply(calculator1, axis = 1)\n",
        "data = data[bolean_table]\n",
        "data.to_csv(\"SystemicFile_.csv\", sep=\",\", index=False)\n",
        "data = pd.read_csv(\"SystemicFile_.csv\")\n",
        "\n",
        "#3rd step | Deleting rare Weathers)\n",
        "weds = list(data[\"Weather_Condition\"].value_counts(sort = 0).index)\n",
        "counter = list(data[\"Weather_Condition\"].value_counts(sort = 0))\n",
        "del_wed_index = list()\n",
        "for (i, j) in enumerate(counter):\n",
        "    if j <= 100:      ###From Here Change the minimum acceptable Repeat for a wheather\n",
        "        del_wed_index.append(i)\n",
        "del_wed_index.sort(reverse = True)\n",
        "for k in del_wed_index:\n",
        "    del_wed = weds[k]\n",
        "    data = data[(data['Weather_Condition'] != del_wed)]\n",
        "\n",
        "\n",
        "#4th step| change bolean parameters with (0,1) and discretizing continius variables and change attribute variables with boleans\n",
        "# Discretizing time\n",
        "for i in list(data):\n",
        "    data[i] = data[i].replace([True], 1)\n",
        "    data[i] = data[i].replace([False], 0)\n",
        "time_table = data.apply(time_discretize, axis = 1)\n",
        "\n",
        "#5th step | Deleting rare POIs\n",
        "for i in list(data):\n",
        "    if (data[i].max() == 0):\n",
        "        data.drop([i], axis = 1, inplace = True)\n",
        "    elif (data[i].max() == 1) and (data[i].min() == 0):\n",
        "        if (data[i].sum() <= 100): ###From Here Change number of Repeat\n",
        "            data = data[(data[i] == 0)]\n",
        "            data.drop([i], axis = 1, inplace = True)\n",
        "\n",
        "#6th step of data cleaning (Delete zones with few accidents and its rows)\n",
        "data.to_csv(\"SystemicFile_.csv\", sep=\",\", index=False)\n",
        "data = pd.read_csv(\"SystemicFile_.csv\")\n",
        "zones = zone(data)\n",
        "zone_accident = [0] * len(zones)\n",
        "indicate_zone = list()\n",
        "for k in range(data.shape[0]):\n",
        "    lng, lat = data[\"Start_Lng\"][k], data[\"Start_Lat\"][k]\n",
        "    for i in zones:\n",
        "        if (lng >= i[0]) and (lng < i[2]) and (lat >= i[1]) and (lat < i[3]) :\n",
        "            zone_accident[zones.index(i)] += 1\n",
        "            indicate_zone.append(zones.index(i) + 1)\n",
        "data[\"Zone\"] = indicate_zone\n",
        "deleted_zone_index = []\n",
        "for (i, j) in enumerate(zone_accident):\n",
        "    if j <= 50:#From Here change minimum of accidens in a zone\n",
        "        deleted_zone_index.append(i + 1)\n",
        "deleted_zone_index.reverse()\n",
        "for k in deleted_zone_index:\n",
        "    del zone_accident[k - 1]\n",
        "    del zones[k - 1]\n",
        "\n",
        "for l in deleted_zone_index:\n",
        "    data = data[data[\"Zone\"] != l]\n",
        "valid_zone = list(data[\"Zone\"].unique())\n",
        "valid_zone.sort()\n",
        "for (i, j) in enumerate(valid_zone):\n",
        "    data['Zone'] = data['Zone'].replace([j], i + 1)\n",
        "\n",
        "#Severity\n",
        "data['Severity'] = data['Severity'].replace([1, 2], 0)\n",
        "data['Severity'] = data['Severity'].replace([3, 4], 1)\n",
        "\n",
        "\n",
        "#Final Preparing DataBase\n",
        "data = data.drop([\"Source\", \"Description\", \"City\", \"County\", \"State\", \"End_Time\", \\\n",
        "                  \"Start_Lat\", \"Start_Lng\", \"Weather_Timestamp\", \"Side\", \"Distance(mi)\"] ,axis = 1)\n",
        "data.to_csv(\"Final_Visualization.csv\", sep=\",\", index=False)\n",
        "clock2 = time.time()\n",
        "print(\"Process Time: \", clock2 - clock1, \"sec\")"
      ]
    },
    {
      "cell_type": "code",
      "execution_count": null,
      "metadata": {
        "id": "B87qoc-xJaX9"
      },
      "outputs": [],
      "source": []
    },
    {
      "cell_type": "code",
      "execution_count": null,
      "metadata": {
        "id": "f-XLkDaPJaX9"
      },
      "outputs": [],
      "source": [
        "import pandas as pd\n",
        "import numpy as np\n",
        "from numpy import mean\n",
        "from numpy import std\n",
        "from sklearn.preprocessing import MinMaxScaler\n",
        "from sklearn.model_selection import train_test_split\n",
        "from sklearn.metrics import classification_report, confusion_matrix\n",
        "from sklearn.ensemble import GradientBoostingClassifier\n",
        "from sklearn.ensemble import GradientBoostingRegressor\n",
        "import matplotlib.pyplot as plt\n",
        "from sklearn.datasets import make_classification\n",
        "from sklearn.model_selection import cross_val_score\n",
        "from sklearn.model_selection import RepeatedStratifiedKFold\n",
        "from sklearn.datasets import make_regression\n",
        "from sklearn.model_selection import RepeatedKFold\n",
        "from sklearn.metrics import average_precision_score, brier_score_loss, \\\n",
        "    log_loss, roc_auc_score\n",
        "from sklearn.metrics import explained_variance_score, mean_absolute_error, \\\n",
        "    mean_squared_error, median_absolute_error, r2_score"
      ]
    },
    {
      "cell_type": "code",
      "execution_count": null,
      "metadata": {
        "id": "4Kk0Qa-yJaX9"
      },
      "outputs": [],
      "source": [
        "data = pd.read_csv(\"Balanced_Data_Undersampling.csv\")\n",
        "\n",
        "Time = pd.get_dummies(data.Time_Zone, prefix='Time_Zone')\n",
        "Zone1 = pd.get_dummies(data.Zone, prefix='Zone')\n",
        "Weather = pd.get_dummies(data.Weather_Condition, prefix='Weather_Condition')\n",
        "\n",
        "data = data.join(Time)\n",
        "data = data.join(Zone1)\n",
        "data = data.join(Weather)\n",
        "\n",
        "data.drop(['Time_Zone'], axis=1, inplace=True)\n",
        "data.drop(['Zone'], axis=1, inplace=True)\n",
        "data.drop(['Weather_Condition'], axis=1, inplace=True)\n",
        "\n",
        "features= data.columns\n",
        "x=data[features[1:]]\n",
        "y=data.Severity\n",
        "\n",
        "x_train, x_test, y_train, y_test =\\\n",
        "    train_test_split(x, y, test_size=0.2, random_state=0)\n",
        "\n",
        "scaler = MinMaxScaler()\n",
        "x_train = scaler.fit_transform(x_train)\n",
        "x_test = scaler.transform(x_test)\n"
      ]
    },
    {
      "cell_type": "code",
      "execution_count": null,
      "metadata": {
        "id": "LYdyKQLkJaX9",
        "outputId": "b87d369b-489a-4d27-f70b-f580a89ab679"
      },
      "outputs": [
        {
          "name": "stdout",
          "output_type": "stream",
          "text": [
            "Learning rate:  0.01\n",
            "Accuracy score (training): 0.796\n",
            "Accuracy score (validation): 0.703\n",
            "Learning rate:  0.05\n",
            "Accuracy score (training): 0.884\n",
            "Accuracy score (validation): 0.709\n",
            "Learning rate:  0.075\n",
            "Accuracy score (training): 0.926\n",
            "Accuracy score (validation): 0.703\n",
            "Learning rate:  0.1\n",
            "Accuracy score (training): 0.951\n",
            "Accuracy score (validation): 0.706\n",
            "Learning rate:  0.25\n",
            "Accuracy score (training): 0.980\n",
            "Accuracy score (validation): 0.693\n",
            "Learning rate:  0.5\n",
            "Accuracy score (training): 0.980\n",
            "Accuracy score (validation): 0.688\n",
            "Learning rate:  0.75\n",
            "Accuracy score (training): 0.980\n",
            "Accuracy score (validation): 0.684\n",
            "Learning rate:  1\n",
            "Accuracy score (training): 0.980\n",
            "Accuracy score (validation): 0.682\n",
            "Learning rate:  1.1\n",
            "Accuracy score (training): 0.980\n",
            "Accuracy score (validation): 0.677\n"
          ]
        }
      ],
      "source": [
        "lr_list = [0.01, 0.05, 0.075, 0.1, 0.25, 0.5, 0.75, 1, 1.1]\n",
        "model_gbc_acc=[0]*9\n",
        "\n",
        "i=0\n",
        "for learning_rate in lr_list:\n",
        "    gb_clf = GradientBoostingClassifier(n_estimators=100, learning_rate=learning_rate, max_features='auto', max_depth=14, random_state=0)\n",
        "    gb_clf.fit(x_train, y_train)\n",
        "\n",
        "    print(\"Learning rate: \", learning_rate)\n",
        "    print(\"Accuracy score (training): {0:.3f}\".format(gb_clf.score(x_train, y_train)))\n",
        "    print(\"Accuracy score (validation): {0:.3f}\".format(gb_clf.score(x_test, y_test)))\n",
        "    model_gbc_acc[i]=gb_clf.score(x_test, y_test)\n",
        "    i+=1"
      ]
    },
    {
      "cell_type": "code",
      "execution_count": null,
      "metadata": {
        "id": "mJ5B_CleJaX-"
      },
      "outputs": [],
      "source": [
        "gb_clf2 = GradientBoostingClassifier(n_estimators=100, learning_rate=0.05 , max_features='auto', max_depth=14, random_state=0)\n",
        "gb_clf2.fit(x_train, y_train)\n",
        "predictions = gb_clf2.predict(x_test)"
      ]
    },
    {
      "cell_type": "code",
      "execution_count": null,
      "metadata": {
        "id": "Lj_GMd_KJaX-",
        "outputId": "e52a5f25-b38c-40eb-a45c-ce728f80d01a"
      },
      "outputs": [
        {
          "data": {
            "text/plain": [
              "0.7087099424815119"
            ]
          },
          "execution_count": 5,
          "metadata": {},
          "output_type": "execute_result"
        }
      ],
      "source": [
        "gb_clf2.score(x_test, y_test)"
      ]
    },
    {
      "cell_type": "code",
      "execution_count": null,
      "metadata": {
        "id": "KYeUmlrpJaX-",
        "outputId": "715456c0-df9d-4a2e-e6cc-ad9573ff0b8a"
      },
      "outputs": [
        {
          "data": {
            "image/png": "[encoded data removed]",
            "text/plain": [
              "<Figure size 576x576 with 1 Axes>"
            ]
          },
          "metadata": {
            "needs_background": "light"
          },
          "output_type": "display_data"
        }
      ],
      "source": [
        "cm = confusion_matrix(y_test, predictions)\n",
        "\n",
        "fig, ax = plt.subplots(figsize=(8, 8))\n",
        "ax.imshow(cm)\n",
        "ax.grid(False)\n",
        "ax.xaxis.set(ticks=(0, 1), ticklabels=('Predicted 0s', 'Predicted 1s'))\n",
        "ax.yaxis.set(ticks=(0, 1), ticklabels=('Actual 0s', 'Actual 1s'))\n",
        "ax.set_ylim(1.5, -0.5)\n",
        "for i in range(2):\n",
        "    for j in range(2):\n",
        "        ax.text(j, i, cm[i, j], ha='center', va='center', color='red',fontsize=24)\n",
        "plt.show()"
      ]
    },
    {
      "cell_type": "code",
      "execution_count": null,
      "metadata": {
        "id": "jrauEoA5JaX-",
        "outputId": "54701e38-8369-4d7a-e5cf-1e6f91173123"
      },
      "outputs": [
        {
          "name": "stdout",
          "output_type": "stream",
          "text": [
            "Classification Report\n",
            "              precision    recall  f1-score   support\n",
            "\n",
            "           0       0.71      0.70      0.70      3611\n",
            "           1       0.71      0.72      0.71      3691\n",
            "\n",
            "    accuracy                           0.71      7302\n",
            "   macro avg       0.71      0.71      0.71      7302\n",
            "weighted avg       0.71      0.71      0.71      7302\n",
            "\n"
          ]
        }
      ],
      "source": [
        "print(\"Classification Report\")\n",
        "print(classification_report(y_test, predictions))"
      ]
    },
    {
      "cell_type": "code",
      "execution_count": null,
      "metadata": {
        "id": "cOSvZC9rJaX-",
        "outputId": "b9bdbada-058c-4e54-8806-815324775d95"
      },
      "outputs": [
        {
          "name": "stdout",
          "output_type": "stream",
          "text": [
            "0.65183 : average_precision_score\n",
            "0.29129 : brier_score_loss\n",
            "10.06092 : log_loss\n",
            "0.70861 : roc_auc_score\n",
            "-0.16515 : explained_variance_score\n",
            "0.29129 : mean_absolute_error\n",
            "0.29129 : mean_squared_error\n",
            "0.00000 : median_absolute_error\n",
            "-0.16530 : r2_score\n"
          ]
        }
      ],
      "source": [
        "m_names = [\n",
        "    'average_precision_score', 'brier_score_loss',\n",
        "    'log_loss', 'roc_auc_score',\n",
        "    'explained_variance_score', 'mean_absolute_error',\n",
        "    'mean_squared_error', 'median_absolute_error', 'r2_score'\n",
        "]\n",
        "\n",
        "metrics = [average_precision_score, brier_score_loss, log_loss, roc_auc_score,\n",
        "           explained_variance_score, mean_absolute_error, mean_squared_error, median_absolute_error, r2_score]\n",
        "for n, m in zip(m_names, metrics):\n",
        "    print('{:.5f} : {}'.format(m(y_test, predictions), n))"
      ]
    },
    {
      "cell_type": "code",
      "execution_count": null,
      "metadata": {
        "id": "soVkVnsjJaX-",
        "outputId": "c08242c6-b18e-41fe-d39e-78b16a2e30fb"
      },
      "outputs": [
        {
          "name": "stdout",
          "output_type": "stream",
          "text": [
            "Mean Accuracy: 0.702 (0.009)\n"
          ]
        }
      ],
      "source": [
        "# define the model\n",
        "model = GradientBoostingClassifier()\n",
        "# define the evaluation method\n",
        "cv = RepeatedStratifiedKFold(n_splits=10, n_repeats=3, random_state=0)\n",
        "# evaluate the model on the dataset\n",
        "n_scores = cross_val_score(model, x, y, scoring='accuracy', cv=cv, n_jobs=-1)\n",
        "# report performance\n",
        "print('Mean Accuracy: %.3f (%.3f)' % (mean(n_scores), std(n_scores)))"
      ]
    },
    {
      "cell_type": "code",
      "execution_count": null,
      "metadata": {
        "id": "1php2PRrJaX-",
        "outputId": "ea7a9eb2-3f69-4477-dbb7-ac756259cfde"
      },
      "outputs": [
        {
          "name": "stdout",
          "output_type": "stream",
          "text": [
            "MSE: 0.192 (0.002)\n"
          ]
        }
      ],
      "source": [
        "# define the model\n",
        "model = GradientBoostingRegressor()\n",
        "# define the evaluation procedure\n",
        "cv = RepeatedKFold(n_splits=10, n_repeats=3, random_state=1)\n",
        "# evaluate the model\n",
        "n_scores = cross_val_score(model, x, y, scoring='neg_mean_squared_error', cv=cv, n_jobs=-1)\n",
        "# report performance\n",
        "print('MSE: %.3f (%.3f)' % (-mean(n_scores), std(n_scores)))"
      ]
    },
    {
      "cell_type": "code",
      "execution_count": null,
      "metadata": {
        "id": "mcPo6_9bJaX_",
        "outputId": "8b28bd54-2520-44f1-fc4d-4a61466c89c8"
      },
      "outputs": [
        {
          "name": "stdout",
          "output_type": "stream",
          "text": [
            ">10 0.678 (0.006)\n",
            ">50 0.694 (0.006)\n",
            ">100 0.702 (0.006)\n",
            ">500 0.717 (0.006)\n"
          ]
        },
        {
          "data": {
            "text/plain": [
              "{'whiskers': [<matplotlib.lines.Line2D at 0x1e5dd61a160>,\n",
              "  <matplotlib.lines.Line2D at 0x1e5dd61a4c0>,\n",
              "  <matplotlib.lines.Line2D at 0x1e5dd625cd0>,\n",
              "  <matplotlib.lines.Line2D at 0x1e5dd62f070>,\n",
              "  <matplotlib.lines.Line2D at 0x1e5dd5e8220>,\n",
              "  <matplotlib.lines.Line2D at 0x1e5dd5e4cd0>,\n",
              "  <matplotlib.lines.Line2D at 0x1e5dd5d4940>,\n",
              "  <matplotlib.lines.Line2D at 0x1e5dd5ceb50>],\n",
              " 'caps': [<matplotlib.lines.Line2D at 0x1e5dd61a820>,\n",
              "  <matplotlib.lines.Line2D at 0x1e5dd61ab80>,\n",
              "  <matplotlib.lines.Line2D at 0x1e5dd62f3d0>,\n",
              "  <matplotlib.lines.Line2D at 0x1e5dd62f730>,\n",
              "  <matplotlib.lines.Line2D at 0x1e5dd5dbfa0>,\n",
              "  <matplotlib.lines.Line2D at 0x1e5dd5db5e0>,\n",
              "  <matplotlib.lines.Line2D at 0x1e5dd5ce070>,\n",
              "  <matplotlib.lines.Line2D at 0x1e5dd5ce8b0>],\n",
              " 'boxes': [<matplotlib.lines.Line2D at 0x1e5dd608dc0>,\n",
              "  <matplotlib.lines.Line2D at 0x1e5dd625970>,\n",
              "  <matplotlib.lines.Line2D at 0x1e5dd5e8bb0>,\n",
              "  <matplotlib.lines.Line2D at 0x1e5dd5d4c70>],\n",
              " 'medians': [<matplotlib.lines.Line2D at 0x1e5dd61aee0>,\n",
              "  <matplotlib.lines.Line2D at 0x1e5dd62fa90>,\n",
              "  <matplotlib.lines.Line2D at 0x1e5dd5dbdf0>,\n",
              "  <matplotlib.lines.Line2D at 0x1e5dd5ce610>],\n",
              " 'fliers': [<matplotlib.lines.Line2D at 0x1e5dd6255e0>,\n",
              "  <matplotlib.lines.Line2D at 0x1e5dd63d190>,\n",
              "  <matplotlib.lines.Line2D at 0x1e5dd5d46a0>,\n",
              "  <matplotlib.lines.Line2D at 0x1e5dd5c6fd0>],\n",
              " 'means': [<matplotlib.lines.Line2D at 0x1e5dd625280>,\n",
              "  <matplotlib.lines.Line2D at 0x1e5dd62fdf0>,\n",
              "  <matplotlib.lines.Line2D at 0x1e5dd5db2e0>,\n",
              "  <matplotlib.lines.Line2D at 0x1e5dd5ce0d0>]}"
            ]
          },
          "execution_count": 11,
          "metadata": {},
          "output_type": "execute_result"
        },
        {
          "data": {
            "image/png": "[encoded data removed]",
            "text/plain": [
              "<Figure size 432x288 with 1 Axes>"
            ]
          },
          "metadata": {
            "needs_background": "light"
          },
          "output_type": "display_data"
        }
      ],
      "source": [
        "# get a list of models to evaluate\n",
        "list_score_tree=[0]*4\n",
        "def get_models():\n",
        "    models = dict()\n",
        "    # define number of trees to consider\n",
        "    n_trees = [10, 50, 100, 500]\n",
        "    for n in n_trees:\n",
        "        models[str(n)] = GradientBoostingClassifier(n_estimators=n)\n",
        "    return models\n",
        "\n",
        "# evaluate a given model using cross-validation\n",
        "def evaluate_model(model, x, y):\n",
        "    # define the evaluation procedure\n",
        "    cv = RepeatedStratifiedKFold(n_splits=10, n_repeats=3, random_state=1)\n",
        "    # evaluate the model and collect the results\n",
        "    scores = cross_val_score(model, x, y, scoring='accuracy', cv=cv, n_jobs=-1)\n",
        "    return scores\n",
        "i=0\n",
        "# get the models to evaluate\n",
        "models = get_models()\n",
        "# evaluate the models and store results\n",
        "results, names = list(), list()\n",
        "for name, model in models.items():\n",
        "    # evaluate the model\n",
        "    scores = evaluate_model(model, x, y)\n",
        "    # store the results\n",
        "    results.append(scores)\n",
        "    names.append(name)\n",
        "    # summarize the performance along the way\n",
        "    print('>%s %.3f (%.3f)' % (name, mean(scores), std(scores)))\n",
        "    list_score_tree[i]=mean(scores)\n",
        "    i+=1\n",
        "# plot model performance for comparison\n",
        "plt.boxplot(results, labels=names, showmeans=True)\n",
        "#we can see that that performance improves on this dataset until about 500 trees, after which performance appears to stay same. Unlike AdaBoost, Gradient Boosting appears to not overfit as the number of trees is increased in this case.\n",
        "#more trees is often better. The number of trees must also be balanced with the learning rate, e.g. more trees may require a smaller learning rate, fewer trees may require a larger learning rate."
      ]
    },
    {
      "cell_type": "code",
      "execution_count": null,
      "metadata": {
        "id": "ea1dk8XcJaX_",
        "outputId": "e8426c21-7e45-46cb-89fc-e71b711c130f"
      },
      "outputs": [
        {
          "data": {
            "image/png": "[encoded data removed]",
            "text/plain": [
              "<Figure size 720x720 with 1 Axes>"
            ]
          },
          "metadata": {
            "needs_background": "light"
          },
          "output_type": "display_data"
        }
      ],
      "source": [
        "plt.figure(figsize=(10, 10))\n",
        "plt.boxplot(results, labels=names)\n",
        "plt.title('Boxplot no. of trees')\n",
        "plt.xlabel('number of trees')\n",
        "plt.ylabel('accuracy')\n",
        "plt.savefig(\"2.GBC-1.jpg\",bbox_inches=\"tight\")"
      ]
    },
    {
      "cell_type": "code",
      "execution_count": null,
      "metadata": {
        "id": "kVNP9lsFJaX_",
        "outputId": "5598e407-4c92-45b9-ab45-8c4ae3671417"
      },
      "outputs": [
        {
          "data": {
            "image/png": "[encoded data removed]",
            "text/plain": [
              "<Figure size 576x576 with 1 Axes>"
            ]
          },
          "metadata": {
            "needs_background": "light"
          },
          "output_type": "display_data"
        }
      ],
      "source": [
        "plt.figure(figsize=(8, 8))\n",
        "n_trees = [10, 50, 100, 500]\n",
        "plt.plot(n_trees, list_score_tree, color=\"r\")\n",
        "plt.title('linear trend')\n",
        "plt.xlabel('number of trees')\n",
        "plt.ylabel('accuracy')\n",
        "plt.savefig(\"2.GBC-2.jpg\",bbox_inches=\"tight\")"
      ]
    },
    {
      "cell_type": "code",
      "execution_count": null,
      "metadata": {
        "id": "yHW3BL2LJaX_",
        "outputId": "6a9a6589-4c2d-4946-90de-27c0f66dc87d"
      },
      "outputs": [
        {
          "data": {
            "image/png": "[encoded data removed]",
            "text/plain": [
              "<Figure size 576x576 with 1 Axes>"
            ]
          },
          "metadata": {
            "needs_background": "light"
          },
          "output_type": "display_data"
        }
      ],
      "source": [
        "plt.figure(figsize=(8, 8))\n",
        "plt.plot(lr_list, model_gbc_acc, color=\"b\")\n",
        "plt.title('linear trend')\n",
        "plt.xlabel('learning rate')\n",
        "plt.ylabel('model score')\n",
        "plt.savefig(\"2.GBC-3.jpg\",bbox_inches=\"tight\")"
      ]
    },
    {
      "cell_type": "code",
      "execution_count": null,
      "metadata": {
        "id": "pa8o1d83JaX_"
      },
      "outputs": [],
      "source": [
        "import matplotlib.pyplot as plt\n",
        "import numpy as np\n",
        "import pandas as pd\n",
        "from sklearn.datasets import load_digits\n",
        "from sklearn.tree import DecisionTreeClassifier\n",
        "from sklearn.metrics import classification_report, confusion_matrix\n",
        "from sklearn.model_selection import train_test_split\n",
        "from sklearn.preprocessing import StandardScaler\n",
        "import seaborn as sns; sns.set()\n",
        "from sklearn import metrics\n",
        "from sklearn.metrics import average_precision_score, brier_score_loss, \\\n",
        "    log_loss, roc_auc_score\n",
        "from sklearn.metrics import explained_variance_score, mean_absolute_error, \\\n",
        "    mean_squared_error, median_absolute_error, r2_score"
      ]
    },
    {
      "cell_type": "code",
      "execution_count": null,
      "metadata": {
        "id": "-fq5pjRHJaX_"
      },
      "outputs": [],
      "source": [
        "data = pd.read_csv(\"Balanced_Data_Undersampling.csv\")\n",
        "\n",
        "Time = pd.get_dummies(data.Time_Zone, prefix='Time_Zone')\n",
        "Zone1 = pd.get_dummies(data.Zone, prefix='Zone')\n",
        "Weather = pd.get_dummies(data.Weather_Condition, prefix='Weather_Condition')\n",
        "\n",
        "data = data.join(Time)\n",
        "data = data.join(Zone1)\n",
        "data = data.join(Weather)\n",
        "\n",
        "data.drop(['Time_Zone'], axis=1, inplace=True)\n",
        "data.drop(['Zone'], axis=1, inplace=True)\n",
        "data.drop(['Weather_Condition'], axis=1, inplace=True)\n",
        "\n",
        "features= data.columns\n",
        "x=data[features[1:]]\n",
        "y=data.Severity\n",
        "\n",
        "x_train, x_test, y_train, y_test =\\\n",
        "    train_test_split(x, y, test_size=0.2, random_state=0)\n",
        "\n",
        "clf_tree = DecisionTreeClassifier(criterion='entropy', max_depth=14,\n",
        "                                  random_state=0)\n",
        "\n",
        "clf_tree.fit(x_train, y_train)\n",
        "y_pred = clf_tree.predict(x_test)"
      ]
    },
    {
      "cell_type": "code",
      "execution_count": null,
      "metadata": {
        "id": "GBfFfy31JaX_",
        "outputId": "8acb9a06-6c2f-4cb7-efb4-e9ee26bdf529"
      },
      "outputs": [
        {
          "data": {
            "text/plain": [
              "0.7314592891871533"
            ]
          },
          "execution_count": 3,
          "metadata": {},
          "output_type": "execute_result"
        }
      ],
      "source": [
        "clf_tree.score(x_train,y_train)"
      ]
    },
    {
      "cell_type": "code",
      "execution_count": null,
      "metadata": {
        "id": "ghHRcqP2JaX_",
        "outputId": "3b36179a-5098-4dae-d279-88bccf5b8766"
      },
      "outputs": [
        {
          "data": {
            "text/plain": [
              "0.6841961106546152"
            ]
          },
          "execution_count": 4,
          "metadata": {},
          "output_type": "execute_result"
        }
      ],
      "source": [
        "clf_tree.score(x_test, y_test)"
      ]
    },
    {
      "cell_type": "code",
      "execution_count": null,
      "metadata": {
        "id": "vHtMJRKuJaX_",
        "outputId": "dac82c8d-196d-48b0-a118-2ba98c2a7044"
      },
      "outputs": [
        {
          "data": {
            "text/plain": [
              "array([[2310, 1301],\n",
              "       [1005, 2686]], dtype=int64)"
            ]
          },
          "execution_count": 5,
          "metadata": {},
          "output_type": "execute_result"
        }
      ],
      "source": [
        "confusion_matrix(y_test, y_pred)"
      ]
    },
    {
      "cell_type": "code",
      "execution_count": null,
      "metadata": {
        "scrolled": false,
        "id": "zPdCelepJaX_",
        "outputId": "1e67e850-6098-4660-e4d8-08c3a39af2ed"
      },
      "outputs": [
        {
          "data": {
            "image/png": "[encoded data removed]",
            "text/plain": [
              "<Figure size 576x576 with 1 Axes>"
            ]
          },
          "metadata": {},
          "output_type": "display_data"
        }
      ],
      "source": [
        "cm = confusion_matrix(y_test, y_pred)\n",
        "\n",
        "fig, ax = plt.subplots(figsize=(8, 8))\n",
        "ax.imshow(cm)\n",
        "ax.grid(False)\n",
        "ax.xaxis.set(ticks=(0, 1), ticklabels=('Predicted 0s', 'Predicted 1s'))\n",
        "ax.yaxis.set(ticks=(0, 1), ticklabels=('Actual 0s', 'Actual 1s'))\n",
        "ax.set_ylim(1.5, -0.5)\n",
        "for i in range(2):\n",
        "    for j in range(2):\n",
        "        ax.text(j, i, cm[i, j], ha='center', va='center', color='red',fontsize=24)\n",
        "plt.show()"
      ]
    },
    {
      "cell_type": "code",
      "execution_count": null,
      "metadata": {
        "id": "FD4Psr2FJaX_",
        "outputId": "b53ffc69-f396-42b3-870a-77d73d515638"
      },
      "outputs": [
        {
          "name": "stdout",
          "output_type": "stream",
          "text": [
            "              precision    recall  f1-score   support\n",
            "\n",
            "           0       0.70      0.64      0.67      3611\n",
            "           1       0.67      0.73      0.70      3691\n",
            "\n",
            "    accuracy                           0.68      7302\n",
            "   macro avg       0.69      0.68      0.68      7302\n",
            "weighted avg       0.69      0.68      0.68      7302\n",
            "\n"
          ]
        }
      ],
      "source": [
        "print(classification_report(y_test, y_pred))"
      ]
    },
    {
      "cell_type": "code",
      "execution_count": null,
      "metadata": {
        "id": "wjwdU-ErJaYA",
        "outputId": "103f83c0-835d-4877-9fdc-159471f17586"
      },
      "outputs": [
        {
          "name": "stdout",
          "output_type": "stream",
          "text": [
            "0.62789 : average_precision_score\n",
            "0.31580 : brier_score_loss\n",
            "10.90762 : log_loss\n",
            "0.68371 : roc_auc_score\n",
            "-0.25679 : explained_variance_score\n",
            "0.31580 : mean_absolute_error\n",
            "0.31580 : mean_squared_error\n",
            "0.00000 : median_absolute_error\n",
            "-0.26337 : r2_score\n"
          ]
        }
      ],
      "source": [
        "m_names = [\n",
        "    'average_precision_score', 'brier_score_loss',\n",
        "    'log_loss', 'roc_auc_score',\n",
        "    'explained_variance_score', 'mean_absolute_error',\n",
        "    'mean_squared_error', 'median_absolute_error', 'r2_score'\n",
        "]\n",
        "metrics = [average_precision_score, brier_score_loss, log_loss, roc_auc_score,\n",
        "           explained_variance_score, mean_absolute_error, mean_squared_error, median_absolute_error, r2_score]\n",
        "for n, m in zip(m_names, metrics):\n",
        "    print('{:.5f} : {}'.format(m(y_test, y_pred), n))"
      ]
    },
    {
      "cell_type": "code",
      "execution_count": null,
      "metadata": {
        "id": "3gC4sD9LJaYA"
      },
      "outputs": [],
      "source": [
        "import matplotlib\n",
        "import matplotlib.pyplot as plt\n",
        "import numpy as np\n",
        "from sklearn.model_selection import train_test_split\n",
        "from sklearn.neighbors import KNeighborsClassifier\n",
        "from sklearn import metrics\n",
        "import pandas as pd\n",
        "from sklearn.metrics import average_precision_score, brier_score_loss, \\\n",
        "    log_loss, roc_auc_score\n",
        "from sklearn.metrics import explained_variance_score, mean_absolute_error, \\\n",
        "    mean_squared_error, median_absolute_error, r2_score\n",
        "from sklearn.metrics import classification_report, confusion_matrix"
      ]
    },
    {
      "cell_type": "code",
      "execution_count": null,
      "metadata": {
        "id": "BulfTDgHJaYA"
      },
      "outputs": [],
      "source": [
        "data = pd.read_csv(\"Balanced_Data_Undersampling.csv\")\n",
        "\n",
        "Time = pd.get_dummies(data.Time_Zone, prefix='Time_Zone')\n",
        "Zone1 = pd.get_dummies(data.Zone, prefix='Zone')\n",
        "Weather = pd.get_dummies(data.Weather_Condition, prefix='Weather_Condition')\n",
        "\n",
        "data = data.join(Time)\n",
        "data = data.join(Zone1)\n",
        "data = data.join(Weather)\n",
        "\n",
        "data.drop(['Time_Zone'], axis=1, inplace=True)\n",
        "data.drop(['Zone'], axis=1, inplace=True)\n",
        "data.drop(['Weather_Condition'], axis=1, inplace=True)\n",
        "\n",
        "features= data.columns\n",
        "x=data[features[1:]]\n",
        "y=data.Severity\n",
        "\n",
        "x_train, x_test, y_train, y_test =\\\n",
        "    train_test_split(x, y, test_size=0.2, random_state=0)"
      ]
    },
    {
      "cell_type": "code",
      "execution_count": null,
      "metadata": {
        "id": "n6H9NwAeJaYA",
        "outputId": "7a09263d-6bac-402b-d276-1d9c82d70e80"
      },
      "outputs": [
        {
          "data": {
            "image/png": "[encoded data removed]",
            "text/plain": [
              "<Figure size 432x288 with 1 Axes>"
            ]
          },
          "metadata": {
            "needs_background": "light"
          },
          "output_type": "display_data"
        }
      ],
      "source": [
        "k_range = range(1,35)\n",
        "scores = {}\n",
        "scores_list = []\n",
        "for k in k_range:\n",
        "        knn = KNeighborsClassifier(n_neighbors=k)\n",
        "        knn.fit(x_train,y_train)\n",
        "        y_pred=knn.predict(x_test)\n",
        "        scores[k] = metrics.accuracy_score(y_test,y_pred)\n",
        "        scores_list.append(metrics.accuracy_score(y_test,y_pred))\n",
        "\n",
        "\n",
        "#plot the relationship between K and the testing accuracy\n",
        "plt.plot(k_range,scores_list)\n",
        "plt.xlabel('Value of K for KNN')\n",
        "plt.ylabel('Testing Accuracy')\n",
        "plt.savefig(\"KNN2.png\",bbox_inches=\"tight\")"
      ]
    },
    {
      "cell_type": "code",
      "execution_count": null,
      "metadata": {
        "id": "u97j2io8JaYA",
        "outputId": "90a6fb0b-462b-490a-dc72-99cc6df0698d"
      },
      "outputs": [
        {
          "data": {
            "text/plain": [
              "KNeighborsClassifier(n_neighbors=25)"
            ]
          },
          "execution_count": 4,
          "metadata": {},
          "output_type": "execute_result"
        }
      ],
      "source": [
        "knn = KNeighborsClassifier(n_neighbors=25)\n",
        "knn.fit(x_train,y_train)"
      ]
    },
    {
      "cell_type": "code",
      "execution_count": null,
      "metadata": {
        "id": "Q4whZvBEJaYA",
        "outputId": "ecdb2924-e013-4c69-e475-04bca63bc32a"
      },
      "outputs": [
        {
          "data": {
            "text/plain": [
              "0.6481887283434911"
            ]
          },
          "execution_count": 5,
          "metadata": {},
          "output_type": "execute_result"
        }
      ],
      "source": [
        "knn.score(x_train, y_train)"
      ]
    },
    {
      "cell_type": "code",
      "execution_count": null,
      "metadata": {
        "id": "XzECIfpRJaYA",
        "outputId": "ff04f897-0de8-41e2-fdf6-080c2ad022fa"
      },
      "outputs": [
        {
          "data": {
            "text/plain": [
              "0.6166803615447822"
            ]
          },
          "execution_count": 6,
          "metadata": {},
          "output_type": "execute_result"
        }
      ],
      "source": [
        "knn.score(x_test, y_test)"
      ]
    },
    {
      "cell_type": "code",
      "execution_count": null,
      "metadata": {
        "id": "h6QtsEarJaYA",
        "outputId": "c09e3c7b-dfc9-4301-e2de-4539c85f68f0"
      },
      "outputs": [
        {
          "data": {
            "text/plain": [
              "0.6418867097622439"
            ]
          },
          "execution_count": 7,
          "metadata": {},
          "output_type": "execute_result"
        }
      ],
      "source": [
        "knn.score(x, y)"
      ]
    },
    {
      "cell_type": "code",
      "execution_count": null,
      "metadata": {
        "id": "LwhPVUVTJaYA",
        "outputId": "b108139a-2181-4fb4-ea32-9ab2fe97810c"
      },
      "outputs": [
        {
          "data": {
            "text/plain": [
              "array([[2098, 1513],\n",
              "       [1321, 2370]], dtype=int64)"
            ]
          },
          "execution_count": 8,
          "metadata": {},
          "output_type": "execute_result"
        }
      ],
      "source": [
        "confusion_matrix(y_test, y_pred)"
      ]
    },
    {
      "cell_type": "code",
      "execution_count": null,
      "metadata": {
        "id": "s_FOjOcGJaYA",
        "outputId": "8a864823-3a28-41d7-9a56-f919a6533e8a"
      },
      "outputs": [
        {
          "data": {
            "image/png": "[encoded data removed]",
            "text/plain": [
              "<Figure size 576x576 with 1 Axes>"
            ]
          },
          "metadata": {
            "needs_background": "light"
          },
          "output_type": "display_data"
        }
      ],
      "source": [
        "cm = confusion_matrix(y_test, y_pred)\n",
        "\n",
        "fig, ax = plt.subplots(figsize=(8, 8))\n",
        "ax.imshow(cm)\n",
        "ax.grid(False)\n",
        "ax.xaxis.set(ticks=(0, 1), ticklabels=('Predicted 0s', 'Predicted 1s'))\n",
        "ax.yaxis.set(ticks=(0, 1), ticklabels=('Actual 0s', 'Actual 1s'))\n",
        "ax.set_ylim(1.5, -0.5)\n",
        "for i in range(2):\n",
        "    for j in range(2):\n",
        "        ax.text(j, i, cm[i, j], ha='center', va='center', color='red',fontsize=24)\n",
        "plt.show()"
      ]
    },
    {
      "cell_type": "code",
      "execution_count": null,
      "metadata": {
        "id": "3OpZQfVCJaYA",
        "outputId": "7c3d4dcd-8631-4c95-bd12-963ba21f8eff"
      },
      "outputs": [
        {
          "name": "stdout",
          "output_type": "stream",
          "text": [
            "              precision    recall  f1-score   support\n",
            "\n",
            "           0       0.61      0.58      0.60      3611\n",
            "           1       0.61      0.64      0.63      3691\n",
            "\n",
            "    accuracy                           0.61      7302\n",
            "   macro avg       0.61      0.61      0.61      7302\n",
            "weighted avg       0.61      0.61      0.61      7302\n",
            "\n"
          ]
        }
      ],
      "source": [
        "print(classification_report(y_test, y_pred))"
      ]
    },
    {
      "cell_type": "code",
      "execution_count": null,
      "metadata": {
        "id": "oO23LCDUJaYA",
        "outputId": "99ed65e2-c676-420d-cf15-5360febbca5b"
      },
      "outputs": [
        {
          "name": "stdout",
          "output_type": "stream",
          "text": [
            "0.57282 : average_precision_score\n",
            "0.38811 : brier_score_loss\n",
            "13.40511 : log_loss\n",
            "0.61155 : roc_auc_score\n",
            "-0.54987 : explained_variance_score\n",
            "0.38811 : mean_absolute_error\n",
            "0.38811 : mean_squared_error\n",
            "0.00000 : median_absolute_error\n",
            "-0.55264 : r2_score\n"
          ]
        }
      ],
      "source": [
        "m_names = [\n",
        "    'average_precision_score', 'brier_score_loss',\n",
        "    'log_loss', 'roc_auc_score',\n",
        "    'explained_variance_score', 'mean_absolute_error',\n",
        "    'mean_squared_error', 'median_absolute_error', 'r2_score'\n",
        "]\n",
        "metrics = [average_precision_score, brier_score_loss, log_loss, roc_auc_score,\n",
        "           explained_variance_score, mean_absolute_error, mean_squared_error, median_absolute_error, r2_score]\n",
        "for n, m in zip(m_names, metrics):\n",
        "    print('{:.5f} : {}'.format(m(y_test, y_pred), n))"
      ]
    },
    {
      "cell_type": "code",
      "execution_count": null,
      "metadata": {
        "id": "VJ33MDW1JaYA"
      },
      "outputs": [],
      "source": [
        "import matplotlib.pyplot as plt\n",
        "import numpy as np\n",
        "import pandas as pd\n",
        "from sklearn.datasets import load_digits\n",
        "from sklearn.linear_model import LogisticRegression\n",
        "from sklearn.metrics import classification_report, confusion_matrix\n",
        "from sklearn.model_selection import train_test_split\n",
        "from sklearn.preprocessing import StandardScaler\n",
        "from sklearn.metrics import average_precision_score, brier_score_loss, \\\n",
        "    log_loss, roc_auc_score\n",
        "from sklearn.metrics import explained_variance_score, mean_absolute_error, \\\n",
        "    mean_squared_error, median_absolute_error, r2_score\n",
        "from sklearn.datasets import make_classification\n",
        "from sklearn.metrics import roc_curve\n",
        "from sklearn.metrics import roc_auc_score"
      ]
    },
    {
      "cell_type": "code",
      "execution_count": null,
      "metadata": {
        "id": "zi2Ezy7WJaYA"
      },
      "outputs": [],
      "source": [
        "data = pd.read_csv(\"Balanced_Data_Undersampling.csv\")\n",
        "\n",
        "Time = pd.get_dummies(data.Time_Zone, prefix='Time_Zone')\n",
        "Zone1 = pd.get_dummies(data.Zone, prefix='Zone')\n",
        "Weather = pd.get_dummies(data.Weather_Condition, prefix='Weather_Condition')\n",
        "\n",
        "data = data.join(Time)\n",
        "data = data.join(Zone1)\n",
        "data = data.join(Weather)\n",
        "\n",
        "data.drop(['Time_Zone'], axis=1, inplace=True)\n",
        "data.drop(['Zone'], axis=1, inplace=True)\n",
        "data.drop(['Weather_Condition'], axis=1, inplace=True)\n",
        "\n",
        "features= data.columns\n",
        "x=data[features[1:]]\n",
        "y=data.Severity\n",
        "\n",
        "x_train, x_test, y_train, y_test =\\\n",
        "    train_test_split(x, y, test_size=0.2, random_state=0)\n",
        "\n",
        "scaler = StandardScaler()\n",
        "x_train = scaler.fit_transform(x_train)\n",
        "\n",
        "model = LogisticRegression(solver='newton-cg', C=0.05, multi_class='ovr',\n",
        "                           random_state=0)\n",
        "model.fit(x_train, y_train)\n",
        "\n",
        "x_test = scaler.transform(x_test)\n",
        "\n",
        "y_pred = model.predict(x_test)"
      ]
    },
    {
      "cell_type": "code",
      "execution_count": null,
      "metadata": {
        "id": "vhwnQyknJaYB",
        "outputId": "725e17f7-bc30-4d11-e8e3-14b371996d39"
      },
      "outputs": [
        {
          "data": {
            "text/plain": [
              "0.6987605286584948"
            ]
          },
          "execution_count": 3,
          "metadata": {},
          "output_type": "execute_result"
        }
      ],
      "source": [
        "model.score(x_train, y_train)"
      ]
    },
    {
      "cell_type": "code",
      "execution_count": null,
      "metadata": {
        "id": "YOhbB6mLJaYB",
        "outputId": "84a681cc-ff6a-4f58-a67a-052074461e0e"
      },
      "outputs": [
        {
          "data": {
            "text/plain": [
              "0.6970692960832648"
            ]
          },
          "execution_count": 4,
          "metadata": {},
          "output_type": "execute_result"
        }
      ],
      "source": [
        "model.score(x_test, y_test)"
      ]
    },
    {
      "cell_type": "code",
      "execution_count": null,
      "metadata": {
        "id": "zd2RIOQuJaYB",
        "outputId": "1a0ff212-6316-43a0-a951-2181ae7a2595"
      },
      "outputs": [
        {
          "data": {
            "image/png": "[encoded data removed]",
            "text/plain": [
              "<Figure size 576x576 with 1 Axes>"
            ]
          },
          "metadata": {
            "needs_background": "light"
          },
          "output_type": "display_data"
        }
      ],
      "source": [
        "cm = confusion_matrix(y_test, y_pred)\n",
        "\n",
        "fig, ax = plt.subplots(figsize=(8, 8))\n",
        "ax.imshow(cm)\n",
        "ax.grid(False)\n",
        "ax.xaxis.set(ticks=(0, 1), ticklabels=('Predicted 0s', 'Predicted 1s'))\n",
        "ax.yaxis.set(ticks=(0, 1), ticklabels=('Actual 0s', 'Actual 1s'))\n",
        "ax.set_ylim(1.5, -0.5)\n",
        "for i in range(2):\n",
        "    for j in range(2):\n",
        "        ax.text(j, i, cm[i, j], ha='center', va='center', color='red',fontsize=24)\n",
        "plt.show()"
      ]
    },
    {
      "cell_type": "code",
      "execution_count": null,
      "metadata": {
        "id": "nOJxVJSgJaYB",
        "outputId": "89549fb4-a2ba-48ef-8f00-4dffe3b6d1a2"
      },
      "outputs": [
        {
          "name": "stdout",
          "output_type": "stream",
          "text": [
            "              precision    recall  f1-score   support\n",
            "\n",
            "           0       0.71      0.67      0.68      3611\n",
            "           1       0.69      0.73      0.71      3691\n",
            "\n",
            "    accuracy                           0.70      7302\n",
            "   macro avg       0.70      0.70      0.70      7302\n",
            "weighted avg       0.70      0.70      0.70      7302\n",
            "\n"
          ]
        }
      ],
      "source": [
        "print(classification_report(y_test, y_pred))"
      ]
    },
    {
      "cell_type": "code",
      "execution_count": null,
      "metadata": {
        "id": "AMGTAsAiJaYB",
        "outputId": "b75171de-0b20-465d-8272-b6089d0c3eed"
      },
      "outputs": [
        {
          "name": "stdout",
          "output_type": "stream",
          "text": [
            "0.63970 : average_precision_score\n",
            "0.30293 : brier_score_loss\n",
            "10.46299 : log_loss\n",
            "0.69673 : roc_auc_score\n",
            "-0.20875 : explained_variance_score\n",
            "0.30293 : mean_absolute_error\n",
            "0.30293 : mean_squared_error\n",
            "0.00000 : median_absolute_error\n",
            "-0.21187 : r2_score\n"
          ]
        }
      ],
      "source": [
        "m_names = [\n",
        "    'average_precision_score', 'brier_score_loss',\n",
        "    'log_loss', 'roc_auc_score',\n",
        "    'explained_variance_score', 'mean_absolute_error',\n",
        "    'mean_squared_error', 'median_absolute_error', 'r2_score'\n",
        "]\n",
        "metrics = [average_precision_score, brier_score_loss, log_loss, roc_auc_score,\n",
        "           explained_variance_score, mean_absolute_error, mean_squared_error, median_absolute_error, r2_score]\n",
        "for n, m in zip(m_names, metrics):\n",
        "    print('{:.5f} : {}'.format(m(y_test, y_pred), n))"
      ]
    },
    {
      "cell_type": "code",
      "execution_count": null,
      "metadata": {
        "id": "j-K3Ag6rJaYB",
        "outputId": "8cb0f608-17cc-4fd0-df9f-d39d0a677d4c"
      },
      "outputs": [
        {
          "data": {
            "text/plain": [
              "-0.21186827839706157"
            ]
          },
          "execution_count": 8,
          "metadata": {},
          "output_type": "execute_result"
        }
      ],
      "source": [
        "def efron_rsquare(y_test, y_pred):\n",
        "    n = float(len(y_test))\n",
        "    t1 = np.sum(np.power(y_test - y_pred, 2.0))\n",
        "    t2 = np.sum(np.power((y_test - (np.sum(y_test) / n)), 2.0))\n",
        "    return 1.0 - (t1 / t2)\n",
        "\n",
        "efron_rsquare(y_test, y_pred)"
      ]
    },
    {
      "cell_type": "code",
      "execution_count": null,
      "metadata": {
        "id": "GCgfxi5rJaYB",
        "outputId": "92199076-7853-4223-b5aa-add28040b8d2"
      },
      "outputs": [
        {
          "data": {
            "text/plain": [
              "0.0703308501660993"
            ]
          },
          "execution_count": 9,
          "metadata": {},
          "output_type": "execute_result"
        }
      ],
      "source": [
        "def mz_rsquare(y_pred):\n",
        "    return np.var(y_pred) / (np.var(y_pred) + (np.power(np.pi, 2.0) / 3.0) )\n",
        "mz_rsquare(y_pred)"
      ]
    },
    {
      "cell_type": "code",
      "execution_count": null,
      "metadata": {
        "id": "8WxM8O_2JaYB",
        "outputId": "5aa9f856-cee8-4f4b-aacd-157c10fd7e2b"
      },
      "outputs": [
        {
          "data": {
            "text/plain": [
              "0.3874273054555525"
            ]
          },
          "execution_count": 10,
          "metadata": {},
          "output_type": "execute_result"
        }
      ],
      "source": [
        "def get_num_correct(y_test, y_pred, t=0.5):\n",
        "    y_correct = np.array([0.0 if p < t else 1.0 for p in y_pred])\n",
        "    return sum([1.0 for p, p_pred in zip(y_test, y_correct) if p == p_pred])\n",
        "def get_count_most_freq_outcome(y):\n",
        "    num_0 = 0\n",
        "    num_1 = 0\n",
        "    for p in y:\n",
        "        if p == 1.0:\n",
        "            num_1 += 1\n",
        "        else:\n",
        "            num_0 += 1\n",
        "    return float(max(num_0, num_1))\n",
        "\n",
        "def count_adjusted_rsquare(y_test, y_pred, t=0.5):\n",
        "    correct = get_num_correct(y_test, y_pred, t)\n",
        "    total = float(len(y_test))\n",
        "    n = get_count_most_freq_outcome(y_test)\n",
        "    return (correct - n) / (total - n)\n",
        "\n",
        "count_adjusted_rsquare(y_test, y_pred)"
      ]
    },
    {
      "cell_type": "code",
      "execution_count": null,
      "metadata": {
        "scrolled": true,
        "id": "Qu6nsxzEJaYC",
        "outputId": "d4a9fac6-3bdf-4731-8c25-c67521802718"
      },
      "outputs": [
        {
          "name": "stdout",
          "output_type": "stream",
          "text": [
            "No Skill: ROC AUC=0.500\n",
            "Logistic: ROC AUC=0.768\n"
          ]
        },
        {
          "data": {
            "image/png": "[encoded data removed]",
            "text/plain": [
              "<Figure size 432x288 with 1 Axes>"
            ]
          },
          "metadata": {
            "needs_background": "light"
          },
          "output_type": "display_data"
        }
      ],
      "source": [
        "# roc curve and auc\n",
        "# generate a no skill prediction (majority class)\n",
        "ns_probs = [0 for _ in range(len(y_test))]\n",
        "# fit a model\n",
        "model = LogisticRegression(solver='lbfgs')\n",
        "model.fit(x_train, y_train)\n",
        "# predict probabilities\n",
        "lr_probs = model.predict_proba(x_test)\n",
        "# keep probabilities for the positive outcome only\n",
        "lr_probs = lr_probs[:, 1]\n",
        "# calculate scores\n",
        "ns_auc = roc_auc_score(y_test, ns_probs)\n",
        "lr_auc = roc_auc_score(y_test, lr_probs)\n",
        "# summarize scores\n",
        "print('No Skill: ROC AUC=%.3f' % (ns_auc))\n",
        "print('Logistic: ROC AUC=%.3f' % (lr_auc))\n",
        "# calculate roc curves\n",
        "ns_fpr, ns_tpr, _ = roc_curve(y_test, ns_probs)\n",
        "lr_fpr, lr_tpr, _ = roc_curve(y_test, lr_probs)\n",
        "# plot the roc curve for the model\n",
        "plt.plot(ns_fpr, ns_tpr, linestyle='--', label='No Skill')\n",
        "plt.plot(lr_fpr, lr_tpr, marker='.', label='Logistic')\n",
        "# axis labels\n",
        "plt.xlabel('False Positive Rate')\n",
        "plt.ylabel('True Positive Rate')\n",
        "# show the legend\n",
        "plt.legend()\n",
        "# show the plot\n",
        "plt.show()"
      ]
    },
    {
      "cell_type": "code",
      "execution_count": null,
      "metadata": {
        "id": "pMknKcv9JaYC"
      },
      "outputs": [],
      "source": [
        "def roc(x_train2, x_test2, y_train2, y_test2):\n",
        "    # generate a no skill prediction (majority class)\n",
        "    ns_probs = [0 for _ in range(len(y_test2))]\n",
        "    # fit a model\n",
        "    model = LogisticRegression(solver='lbfgs')\n",
        "    model.fit(x_train2, y_train2)\n",
        "    # predict probabilities\n",
        "    lr_probs = model.predict_proba(x_test2)\n",
        "    # keep probabilities for the positive outcome only\n",
        "    lr_probs = lr_probs[:, 1]\n",
        "    # calculate scores\n",
        "    ns_auc = roc_auc_score(y_test2, ns_probs)\n",
        "    lr_auc = roc_auc_score(y_test2, lr_probs)\n",
        "    return lr_auc"
      ]
    },
    {
      "cell_type": "code",
      "execution_count": null,
      "metadata": {
        "id": "XVZ1OrK_JaYC",
        "outputId": "df159bfc-9b88-435d-f4d9-dab90bff2284"
      },
      "outputs": [
        {
          "data": {
            "image/png": "[encoded data removed]",
            "text/plain": [
              "<Figure size 2160x216 with 1 Axes>"
            ]
          },
          "metadata": {
            "needs_background": "light"
          },
          "output_type": "display_data"
        },
        {
          "data": {
            "image/png": "[encoded data removed]",
            "text/plain": [
              "<Figure size 2160x216 with 1 Axes>"
            ]
          },
          "metadata": {
            "needs_background": "light"
          },
          "output_type": "display_data"
        },
        {
          "data": {
            "image/png": "[encoded data removed]",
            "text/plain": [
              "<Figure size 2160x216 with 1 Axes>"
            ]
          },
          "metadata": {
            "needs_background": "light"
          },
          "output_type": "display_data"
        },
        {
          "data": {
            "image/png": "[encoded data removed]",
            "text/plain": [
              "<Figure size 2160x216 with 1 Axes>"
            ]
          },
          "metadata": {
            "needs_background": "light"
          },
          "output_type": "display_data"
        }
      ],
      "source": [
        "score2_figure_list=list()\n",
        "score_figure_list=list()\n",
        "line=[0.05017269237231213]*15\n",
        "line2=[0.767]*15\n",
        "list_change_r2=[0]*15\n",
        "list_change_roc=[0]*15\n",
        "data2 = pd.read_csv(\"Processed-Data.csv\")\n",
        "y2=data2.Severity\n",
        "x2=data2.drop(columns=\"Severity\")\n",
        "for i in list(x2):\n",
        "    temp_table=x2.drop([i],inplace=False,axis=1)\n",
        "    if i!=\"Time_Zone\":\n",
        "        Time = pd.get_dummies(temp_table.Time_Zone, prefix='Time_Zone')\n",
        "        temp_table = temp_table.join(Time)\n",
        "        temp_table.drop(['Time_Zone'], axis=1, inplace=True)\n",
        "    if i!=\"Weather_Condition\":\n",
        "        Weather = pd.get_dummies(temp_table.Weather_Condition, prefix='Weather_Condition')\n",
        "        temp_table = temp_table.join(Weather)\n",
        "        temp_table.drop(['Weather_Condition'], axis=1, inplace=True)\n",
        "    if i!=\"Zone\":\n",
        "        Zone1 = pd.get_dummies(temp_table.Zone, prefix='Zone')\n",
        "        temp_table = temp_table.join(Zone1)\n",
        "        temp_table.drop(['Zone'], axis=1, inplace=True)\n",
        "    #train model\n",
        "    x_train2, x_test2, y_train2, y_test2 =\\\n",
        "    train_test_split(temp_table, y2, test_size=0.2, random_state=0)\n",
        "\n",
        "    scaler = StandardScaler()\n",
        "    x_train2 = scaler.fit_transform(x_train2)\n",
        "\n",
        "    model = LogisticRegression(solver='newton-cg', C=0.05, multi_class='ovr',\n",
        "                               random_state=0)\n",
        "    model.fit(x_train2, y_train2)\n",
        "\n",
        "    x_test2 = scaler.transform(x_test2)\n",
        "\n",
        "    y_pred2 = model.predict(x_test2)\n",
        "#roc va mz_R^2\n",
        "    score_figure_list.append(mz_rsquare(y_pred2))\n",
        "    score2_figure_list.append(roc(x_train2, x_test2, y_train2, y_test2))\n",
        "plt.figure(figsize=(30, 3))\n",
        "plt.plot(list(x2), score_figure_list, 'bo',label='deleted models')\n",
        "plt.plot(list(x2), line, 'y',label=\"full model\")\n",
        "plt.legend()\n",
        "plt.title('R^2')\n",
        "plt.xlabel('Deleted figure')\n",
        "plt.ylabel('Value')\n",
        "plt.savefig(\"LR2-R^2.jpg\",bbox_inches=\"tight\")\n",
        "plt.figure(figsize=(30, 3))\n",
        "plt.plot(list(x2), score2_figure_list,'bo',label='deleted models')\n",
        "plt.plot(list(x2), line2,'r',label=\"full model\")\n",
        "plt.legend()\n",
        "\n",
        "plt.title('Roc')\n",
        "plt.xlabel('Deleted figure')\n",
        "plt.ylabel('Value')\n",
        "\n",
        "plt.savefig(\"LR2-Roc.jpg\",bbox_inches=\"tight\")\n",
        "\n",
        "for i in range(15):\n",
        "    list_change_r2[i]=100.0*(score_figure_list[i]-line[i])/line[i]\n",
        "    list_change_roc[i]=100.0*(score2_figure_list[i]-line2[i])/line2[i]\n",
        "\n",
        "cnum=np.arange(15)\n",
        "plt.figure(figsize=(30, 3))\n",
        "plt.bar(cnum,list_change_r2)\n",
        "ticks=plt.xticks(cnum,list(x2))\n",
        "plt.title('R^2 change')\n",
        "plt.xlabel('Deleted figure')\n",
        "plt.ylabel('R^2 change (%)')\n",
        "plt.savefig(\"LR2-R^2 change.jpg\",bbox_inches=\"tight\")\n",
        "ax=plt.gca()\n",
        "ax.set_ylim([-10,2])\n",
        "plt.figure(figsize=(30, 3))\n",
        "plt.bar(cnum,list_change_roc)\n",
        "ticks=plt.xticks(cnum,list(x2))\n",
        "plt.title('Roc change')\n",
        "plt.xlabel('Deleted figure')\n",
        "plt.ylabel('Roc change (%)')\n",
        "plt.savefig(\"LR2-Roc change.jpg\",bbox_inches=\"tight\")\n"
      ]
    },
    {
      "cell_type": "code",
      "execution_count": null,
      "metadata": {
        "id": "w3f4OM_8JaYC",
        "outputId": "b10fe445-91be-49a9-940f-5f5f790dbc04"
      },
      "outputs": [
        {
          "data": {
            "image/png": "[encoded data removed]",
            "text/plain": [
              "<Figure size 1440x216 with 1 Axes>"
            ]
          },
          "metadata": {
            "needs_background": "light"
          },
          "output_type": "display_data"
        }
      ],
      "source": [
        "n_groups = 15\n",
        "list2_change_r2 = [-i for i in list_change_r2]\n",
        "list2_change_roc = [-j for j in list_change_roc]\n",
        "\n",
        "zip1 = zip(x2, list2_change_r2)\n",
        "zip2 = zip(x2, list2_change_roc)\n",
        "dct = dict(list(zip1))\n",
        "dct1 = dict(list(zip2))\n",
        "dct = dict(sorted(dct.items(), key=lambda x: x[1], reverse=True))\n",
        "features = dct.keys()\n",
        "ls_r2 = dct.values()\n",
        "ls_roc = list()\n",
        "for i in features:\n",
        "    ls_roc.append(dct1[i])\n",
        "ls_r2 = tuple(ls_r2)\n",
        "ls_roc = tuple(ls_roc)\n",
        "\n",
        "clmn = (\"Zone\", 'Traffic Signal', 'Weather Condition', 'Time Zone', 'Stop', 'Amenity', 'Wind Speed', 'Station',\n",
        "        'Crossing', 'Railway', 'Temperature', 'Junction', 'Pressure', 'Visibility', 'Humidity')\n",
        "plt.figure(figsize=(20, 3))\n",
        "\n",
        "# create plot\n",
        "index = np.arange(n_groups)\n",
        "bar_width = 0.3\n",
        "opacity = 0.9\n",
        "rects1 = plt.bar(index, ls_r2, bar_width,alpha=opacity,color='b',label='R^2')\n",
        "rects2 = plt.bar(index + bar_width, ls_roc, bar_width,alpha=opacity,color='g',label='roc')\n",
        "\n",
        "plt.ylabel('Decrease of score(%)')\n",
        "plt.title('Relative importance of features')\n",
        "\n",
        "plt.xticks(index + bar_width, clmn)\n",
        "plt.legend()\n",
        "\n",
        "plt.tight_layout()\n",
        "plt.show()"
      ]
    },
    {
      "cell_type": "code",
      "execution_count": null,
      "metadata": {
        "id": "ZN_akQ0SJaYC"
      },
      "outputs": [],
      "source": []
    }
  ],
  "metadata": {
    "kernelspec": {
      "display_name": "Python 3",
      "language": "python",
      "name": "python3"
    },
    "language_info": {
      "codemirror_mode": {
        "name": "ipython",
        "version": 3
      },
      "file_extension": ".py",
      "mimetype": "text/x-python",
      "name": "python",
      "nbconvert_exporter": "python",
      "pygments_lexer": "ipython3",
      "version": "3.8.5"
    },
    "colab": {
      "provenance": []
    }
  },
  "nbformat": 4,
  "nbformat_minor": 0
}